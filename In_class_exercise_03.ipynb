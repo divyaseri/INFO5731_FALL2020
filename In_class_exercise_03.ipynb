{
  "nbformat": 4,
  "nbformat_minor": 0,
  "metadata": {
    "kernelspec": {
      "display_name": "Python 3",
      "language": "python",
      "name": "python3"
    },
    "language_info": {
      "codemirror_mode": {
        "name": "ipython",
        "version": 3
      },
      "file_extension": ".py",
      "mimetype": "text/x-python",
      "name": "python",
      "nbconvert_exporter": "python",
      "pygments_lexer": "ipython3",
      "version": "3.7.4"
    },
    "colab": {
      "name": "In-class-exercise-03.ipynb",
      "provenance": [],
      "include_colab_link": true
    }
  },
  "cells": [
    {
      "cell_type": "markdown",
      "metadata": {
        "id": "view-in-github",
        "colab_type": "text"
      },
      "source": [
        "<a href=\"https://colab.research.google.com/github/divyaseri/INFO5731_FALL2020/blob/master/In_class_exercise_03.ipynb\" target=\"_parent\"><img src=\"https://colab.research.google.com/assets/colab-badge.svg\" alt=\"Open In Colab\"/></a>"
      ]
    },
    {
      "cell_type": "markdown",
      "metadata": {
        "id": "WtFSqg_rqjGS",
        "colab_type": "text"
      },
      "source": [
        "## The third In-class-exercise (9/16/2020, 20 points in total)"
      ]
    },
    {
      "cell_type": "markdown",
      "metadata": {
        "id": "ExU27WNeqjGU",
        "colab_type": "text"
      },
      "source": [
        "The purpose of this exercise is to under users' information needs, then collect the data for analysis."
      ]
    },
    {
      "cell_type": "markdown",
      "metadata": {
        "id": "0EuyN3GCqjGV",
        "colab_type": "text"
      },
      "source": [
        "Question 1 (8 points): Describe an interesting research question (or practical question) you have in mind, what kind of data should be collected to answer the question(s)? How many data needed for the analysis? The detail steps for collecting and save the data. "
      ]
    },
    {
      "cell_type": "code",
      "metadata": {
        "id": "MCk32yonqjGW",
        "colab_type": "code",
        "colab": {}
      },
      "source": [
        "Problem Statement: Which countries have imposed travel restrictions during the on going pandemic?\n",
        "Data Collection: The kind of data collected for this analysis is the name of the country and the its imposed restriction from 'aljazeera' website.\n",
        "Steps: \n",
        "-Made a request to the URL and stored the HTML as a BeautifulSoup object\n",
        "-Got the information into DataFrame into two columns : country and restriction\n",
        "\n"
      ],
      "execution_count": null,
      "outputs": []
    },
    {
      "cell_type": "markdown",
      "metadata": {
        "id": "R1MnrT3pqjGc",
        "colab_type": "text"
      },
      "source": [
        "Question 2 (12 points): Write python code to collect 500 items of the data you plan to collect above."
      ]
    },
    {
      "cell_type": "code",
      "metadata": {
        "id": "2QQsjhu3qjGd",
        "colab_type": "code",
        "colab": {
          "base_uri": "https://localhost:8080/",
          "height": 415
        },
        "outputId": "2d7a2b11-d833-43a0-b6cb-032d1af0f3f7"
      },
      "source": [
        "import requests\n",
        "from bs4 import BeautifulSoup\n",
        "import pandas as pd\n",
        "url = \"https://www.aljazeera.com/news/2020/03/coronavirus-travel-restrictions-border-shutdowns-country-200318091505922.html\"\n",
        "#request to the web page to get its HTML\n",
        "r = requests.get(url)\n",
        "soup = BeautifulSoup(r.content)\n",
        "import requests\n",
        "from bs4 import BeautifulSoup\n",
        "import pandas as pd\n",
        "\n",
        "df = pd.DataFrame(columns =['Country', 'Restriction'])\n",
        "country = []\n",
        "restriction = []\n",
        "flag = 0\n",
        "for link in soup.find_all(\"h3\"):\n",
        "    if flag == 0:\n",
        "        country.append(link.get_text())\n",
        "        next_sib = link.find_next_sibling(['p', 'h3'])\n",
        "        text = []\n",
        "        while next_sib.name != 'h3':\n",
        "            text.append(next_sib.get_text())\n",
        "            next_sib = next_sib.find_next_sibling(['p','h3'])\n",
        "            if next_sib is None :\n",
        "                flag = 1\n",
        "                break\n",
        "        restriction.append(' '.join(text))\n",
        "    else:\n",
        "        break\n",
        "df['Country'] = country\n",
        "df['Restriction'] = restriction\n",
        "df\n"
      ],
      "execution_count": 11,
      "outputs": [
        {
          "output_type": "execute_result",
          "data": {
            "text/html": [
              "<div>\n",
              "<style scoped>\n",
              "    .dataframe tbody tr th:only-of-type {\n",
              "        vertical-align: middle;\n",
              "    }\n",
              "\n",
              "    .dataframe tbody tr th {\n",
              "        vertical-align: top;\n",
              "    }\n",
              "\n",
              "    .dataframe thead th {\n",
              "        text-align: right;\n",
              "    }\n",
              "</style>\n",
              "<table border=\"1\" class=\"dataframe\">\n",
              "  <thead>\n",
              "    <tr style=\"text-align: right;\">\n",
              "      <th></th>\n",
              "      <th>Country</th>\n",
              "      <th>Restriction</th>\n",
              "    </tr>\n",
              "  </thead>\n",
              "  <tbody>\n",
              "    <tr>\n",
              "      <th>0</th>\n",
              "      <td>Albania</td>\n",
              "      <td>On March 22, Albania suspended all commercial ...</td>\n",
              "    </tr>\n",
              "    <tr>\n",
              "      <th>1</th>\n",
              "      <td>Algeria</td>\n",
              "      <td>The government suspended air and sea travel wi...</td>\n",
              "    </tr>\n",
              "    <tr>\n",
              "      <th>2</th>\n",
              "      <td>Angola</td>\n",
              "      <td>Passengers and airline crew who have been in C...</td>\n",
              "    </tr>\n",
              "    <tr>\n",
              "      <th>3</th>\n",
              "      <td>Anguilla</td>\n",
              "      <td>All airports were closed for 14 days on March ...</td>\n",
              "    </tr>\n",
              "    <tr>\n",
              "      <th>4</th>\n",
              "      <td>Antigua and Barbuda</td>\n",
              "      <td>According to a March 12 travel advisory publis...</td>\n",
              "    </tr>\n",
              "    <tr>\n",
              "      <th>...</th>\n",
              "      <td>...</td>\n",
              "      <td>...</td>\n",
              "    </tr>\n",
              "    <tr>\n",
              "      <th>141</th>\n",
              "      <td>Venezuela</td>\n",
              "      <td>On March 12, Venezuela announced it would canc...</td>\n",
              "    </tr>\n",
              "    <tr>\n",
              "      <th>142</th>\n",
              "      <td>Vietnam</td>\n",
              "      <td>Vietnam announced on March 21 that it will sus...</td>\n",
              "    </tr>\n",
              "    <tr>\n",
              "      <th>143</th>\n",
              "      <td>Yemen</td>\n",
              "      <td>On March 14, the internationally-recognised go...</td>\n",
              "    </tr>\n",
              "    <tr>\n",
              "      <th>144</th>\n",
              "      <td>Zambia</td>\n",
              "      <td>All international flights must arrive at Kenne...</td>\n",
              "    </tr>\n",
              "    <tr>\n",
              "      <th>145</th>\n",
              "      <td>Zimbabwe</td>\n",
              "      <td>Zimbabwe President Emmerson Mnangagwa announce...</td>\n",
              "    </tr>\n",
              "  </tbody>\n",
              "</table>\n",
              "<p>146 rows × 2 columns</p>\n",
              "</div>"
            ],
            "text/plain": [
              "                 Country                                        Restriction\n",
              "0                Albania  On March 22, Albania suspended all commercial ...\n",
              "1                Algeria  The government suspended air and sea travel wi...\n",
              "2                 Angola  Passengers and airline crew who have been in C...\n",
              "3               Anguilla  All airports were closed for 14 days on March ...\n",
              "4    Antigua and Barbuda  According to a March 12 travel advisory publis...\n",
              "..                   ...                                                ...\n",
              "141            Venezuela  On March 12, Venezuela announced it would canc...\n",
              "142              Vietnam  Vietnam announced on March 21 that it will sus...\n",
              "143                Yemen  On March 14, the internationally-recognised go...\n",
              "144               Zambia  All international flights must arrive at Kenne...\n",
              "145             Zimbabwe  Zimbabwe President Emmerson Mnangagwa announce...\n",
              "\n",
              "[146 rows x 2 columns]"
            ]
          },
          "metadata": {
            "tags": []
          },
          "execution_count": 11
        }
      ]
    }
  ]
}